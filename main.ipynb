{
  "cells": [
    {
      "cell_type": "code",
      "execution_count": 3,
      "id": "1ecc2847",
      "metadata": {
        "vscode": {
          "languageId": "plaintext"
        },
        "id": "1ecc2847",
        "outputId": "450f3e11-2945-435d-83e4-8794d38367ae",
        "colab": {
          "base_uri": "https://localhost:8080/"
        }
      },
      "outputs": [
        {
          "output_type": "stream",
          "name": "stdout",
          "text": [
            "Cloning into 'ml-cvnets'...\n",
            "remote: Enumerating objects: 1577, done.\u001b[K\n",
            "remote: Counting objects: 100% (230/230), done.\u001b[K\n",
            "remote: Compressing objects: 100% (141/141), done.\u001b[K\n",
            "remote: Total 1577 (delta 125), reused 91 (delta 88), pack-reused 1347 (from 1)\u001b[K\n",
            "Receiving objects: 100% (1577/1577), 2.20 MiB | 7.92 MiB/s, done.\n",
            "Resolving deltas: 100% (810/810), done.\n",
            "/content/ml-cvnets\n"
          ]
        }
      ],
      "source": [
        "# Clone your fork (replace with your GitHub username/repo if forked)\n",
        "!git clone https://github.com/maaspa/ml-cvnets.git\n",
        "%cd ml-cvnets\n",
        "\n",
        "\n"
      ]
    },
    {
      "cell_type": "code",
      "source": [
        "!pip install torch torchvision torchaudio\n",
        "!pip install -r requirements.txt -c constraints.txt --no-deps\n",
        "!pip install -e .\n"
      ],
      "metadata": {
        "id": "1we8-TYodcB9",
        "outputId": "61e9a05b-c3bc-4f06-a659-988cf67380d6",
        "colab": {
          "base_uri": "https://localhost:8080/"
        }
      },
      "id": "1we8-TYodcB9",
      "execution_count": 5,
      "outputs": [
        {
          "output_type": "stream",
          "name": "stdout",
          "text": [
            "Requirement already satisfied: torch in /usr/local/lib/python3.12/dist-packages (2.8.0+cu126)\n",
            "Requirement already satisfied: torchvision in /usr/local/lib/python3.12/dist-packages (0.23.0+cu126)\n",
            "Requirement already satisfied: torchaudio in /usr/local/lib/python3.12/dist-packages (2.8.0+cu126)\n",
            "Requirement already satisfied: filelock in /usr/local/lib/python3.12/dist-packages (from torch) (3.19.1)\n",
            "Requirement already satisfied: typing-extensions>=4.10.0 in /usr/local/lib/python3.12/dist-packages (from torch) (4.15.0)\n",
            "Requirement already satisfied: setuptools in /usr/local/lib/python3.12/dist-packages (from torch) (75.2.0)\n",
            "Requirement already satisfied: sympy>=1.13.3 in /usr/local/lib/python3.12/dist-packages (from torch) (1.13.3)\n",
            "Requirement already satisfied: networkx in /usr/local/lib/python3.12/dist-packages (from torch) (3.5)\n",
            "Requirement already satisfied: jinja2 in /usr/local/lib/python3.12/dist-packages (from torch) (3.1.6)\n",
            "Requirement already satisfied: fsspec in /usr/local/lib/python3.12/dist-packages (from torch) (2025.3.0)\n",
            "Requirement already satisfied: nvidia-cuda-nvrtc-cu12==12.6.77 in /usr/local/lib/python3.12/dist-packages (from torch) (12.6.77)\n",
            "Requirement already satisfied: nvidia-cuda-runtime-cu12==12.6.77 in /usr/local/lib/python3.12/dist-packages (from torch) (12.6.77)\n",
            "Requirement already satisfied: nvidia-cuda-cupti-cu12==12.6.80 in /usr/local/lib/python3.12/dist-packages (from torch) (12.6.80)\n",
            "Requirement already satisfied: nvidia-cudnn-cu12==9.10.2.21 in /usr/local/lib/python3.12/dist-packages (from torch) (9.10.2.21)\n",
            "Requirement already satisfied: nvidia-cublas-cu12==12.6.4.1 in /usr/local/lib/python3.12/dist-packages (from torch) (12.6.4.1)\n",
            "Requirement already satisfied: nvidia-cufft-cu12==11.3.0.4 in /usr/local/lib/python3.12/dist-packages (from torch) (11.3.0.4)\n",
            "Requirement already satisfied: nvidia-curand-cu12==10.3.7.77 in /usr/local/lib/python3.12/dist-packages (from torch) (10.3.7.77)\n",
            "Requirement already satisfied: nvidia-cusolver-cu12==11.7.1.2 in /usr/local/lib/python3.12/dist-packages (from torch) (11.7.1.2)\n",
            "Requirement already satisfied: nvidia-cusparse-cu12==12.5.4.2 in /usr/local/lib/python3.12/dist-packages (from torch) (12.5.4.2)\n",
            "Requirement already satisfied: nvidia-cusparselt-cu12==0.7.1 in /usr/local/lib/python3.12/dist-packages (from torch) (0.7.1)\n",
            "Requirement already satisfied: nvidia-nccl-cu12==2.27.3 in /usr/local/lib/python3.12/dist-packages (from torch) (2.27.3)\n",
            "Requirement already satisfied: nvidia-nvtx-cu12==12.6.77 in /usr/local/lib/python3.12/dist-packages (from torch) (12.6.77)\n",
            "Requirement already satisfied: nvidia-nvjitlink-cu12==12.6.85 in /usr/local/lib/python3.12/dist-packages (from torch) (12.6.85)\n",
            "Requirement already satisfied: nvidia-cufile-cu12==1.11.1.6 in /usr/local/lib/python3.12/dist-packages (from torch) (1.11.1.6)\n",
            "Requirement already satisfied: triton==3.4.0 in /usr/local/lib/python3.12/dist-packages (from torch) (3.4.0)\n",
            "Requirement already satisfied: numpy in /usr/local/lib/python3.12/dist-packages (from torchvision) (2.0.2)\n",
            "Requirement already satisfied: pillow!=8.3.*,>=5.3.0 in /usr/local/lib/python3.12/dist-packages (from torchvision) (11.3.0)\n",
            "Requirement already satisfied: mpmath<1.4,>=1.1.0 in /usr/local/lib/python3.12/dist-packages (from sympy>=1.13.3->torch) (1.3.0)\n",
            "Requirement already satisfied: MarkupSafe>=2.0 in /usr/local/lib/python3.12/dist-packages (from jinja2->torch) (3.0.2)\n",
            "Collecting psutil (from -r requirements.txt (line 1))\n",
            "  Using cached psutil-5.9.4-cp36-abi3-manylinux_2_12_x86_64.manylinux2010_x86_64.manylinux_2_17_x86_64.manylinux2014_x86_64.whl.metadata (21 kB)\n",
            "Collecting scikit-learn (from -r requirements.txt (line 2))\n",
            "  Using cached scikit-learn-1.2.2.tar.gz (7.3 MB)\n",
            "  Installing build dependencies ... \u001b[?25l\u001b[?25hdone\n",
            "  Getting requirements to build wheel ... \u001b[?25l\u001b[?25hdone\n",
            "  Preparing metadata (pyproject.toml) ... \u001b[?25l\u001b[?25hdone\n",
            "Requirement already satisfied: scikit-image in /usr/local/lib/python3.12/dist-packages (from -r requirements.txt (line 3)) (0.25.2)\n",
            "\u001b[31mERROR: Cannot install torch because these package versions have conflicting dependencies.\u001b[0m\u001b[31m\n",
            "\u001b[0m\n",
            "The conflict is caused by:\n",
            "    The user requested torch\n",
            "    The user requested (constraint) torch==1.13.0\n",
            "\n",
            "To fix this you could try to:\n",
            "1. loosen the range of package versions you've specified\n",
            "2. remove package versions to allow pip to attempt to solve the dependency conflict\n",
            "\n",
            "\u001b[31mERROR: ResolutionImpossible: for help visit https://pip.pypa.io/en/latest/topics/dependency-resolution/#dealing-with-dependency-conflicts\u001b[0m\u001b[31m\n",
            "\u001b[0mObtaining file:///content/ml-cvnets\n",
            "  Installing build dependencies ... \u001b[?25l\u001b[?25hdone\n",
            "  Checking if build backend supports build_editable ... \u001b[?25l\u001b[?25hdone\n",
            "  Getting requirements to build editable ... \u001b[?25l\u001b[?25hdone\n",
            "  Installing backend dependencies ... \u001b[?25l\u001b[?25hdone\n",
            "  Preparing editable metadata (pyproject.toml) ... \u001b[?25l\u001b[?25hdone\n",
            "Requirement already satisfied: numpy in /usr/local/lib/python3.12/dist-packages (from cvnets==0.3) (2.0.2)\n",
            "Requirement already satisfied: torch in /usr/local/lib/python3.12/dist-packages (from cvnets==0.3) (2.8.0+cu126)\n",
            "Requirement already satisfied: tqdm in /usr/local/lib/python3.12/dist-packages (from cvnets==0.3) (4.67.1)\n",
            "Requirement already satisfied: filelock in /usr/local/lib/python3.12/dist-packages (from torch->cvnets==0.3) (3.19.1)\n",
            "Requirement already satisfied: typing-extensions>=4.10.0 in /usr/local/lib/python3.12/dist-packages (from torch->cvnets==0.3) (4.15.0)\n",
            "Requirement already satisfied: setuptools in /usr/local/lib/python3.12/dist-packages (from torch->cvnets==0.3) (75.2.0)\n",
            "Requirement already satisfied: sympy>=1.13.3 in /usr/local/lib/python3.12/dist-packages (from torch->cvnets==0.3) (1.13.3)\n",
            "Requirement already satisfied: networkx in /usr/local/lib/python3.12/dist-packages (from torch->cvnets==0.3) (3.5)\n",
            "Requirement already satisfied: jinja2 in /usr/local/lib/python3.12/dist-packages (from torch->cvnets==0.3) (3.1.6)\n",
            "Requirement already satisfied: fsspec in /usr/local/lib/python3.12/dist-packages (from torch->cvnets==0.3) (2025.3.0)\n",
            "Requirement already satisfied: nvidia-cuda-nvrtc-cu12==12.6.77 in /usr/local/lib/python3.12/dist-packages (from torch->cvnets==0.3) (12.6.77)\n",
            "Requirement already satisfied: nvidia-cuda-runtime-cu12==12.6.77 in /usr/local/lib/python3.12/dist-packages (from torch->cvnets==0.3) (12.6.77)\n",
            "Requirement already satisfied: nvidia-cuda-cupti-cu12==12.6.80 in /usr/local/lib/python3.12/dist-packages (from torch->cvnets==0.3) (12.6.80)\n",
            "Requirement already satisfied: nvidia-cudnn-cu12==9.10.2.21 in /usr/local/lib/python3.12/dist-packages (from torch->cvnets==0.3) (9.10.2.21)\n",
            "Requirement already satisfied: nvidia-cublas-cu12==12.6.4.1 in /usr/local/lib/python3.12/dist-packages (from torch->cvnets==0.3) (12.6.4.1)\n",
            "Requirement already satisfied: nvidia-cufft-cu12==11.3.0.4 in /usr/local/lib/python3.12/dist-packages (from torch->cvnets==0.3) (11.3.0.4)\n",
            "Requirement already satisfied: nvidia-curand-cu12==10.3.7.77 in /usr/local/lib/python3.12/dist-packages (from torch->cvnets==0.3) (10.3.7.77)\n",
            "Requirement already satisfied: nvidia-cusolver-cu12==11.7.1.2 in /usr/local/lib/python3.12/dist-packages (from torch->cvnets==0.3) (11.7.1.2)\n",
            "Requirement already satisfied: nvidia-cusparse-cu12==12.5.4.2 in /usr/local/lib/python3.12/dist-packages (from torch->cvnets==0.3) (12.5.4.2)\n",
            "Requirement already satisfied: nvidia-cusparselt-cu12==0.7.1 in /usr/local/lib/python3.12/dist-packages (from torch->cvnets==0.3) (0.7.1)\n",
            "Requirement already satisfied: nvidia-nccl-cu12==2.27.3 in /usr/local/lib/python3.12/dist-packages (from torch->cvnets==0.3) (2.27.3)\n",
            "Requirement already satisfied: nvidia-nvtx-cu12==12.6.77 in /usr/local/lib/python3.12/dist-packages (from torch->cvnets==0.3) (12.6.77)\n",
            "Requirement already satisfied: nvidia-nvjitlink-cu12==12.6.85 in /usr/local/lib/python3.12/dist-packages (from torch->cvnets==0.3) (12.6.85)\n",
            "Requirement already satisfied: nvidia-cufile-cu12==1.11.1.6 in /usr/local/lib/python3.12/dist-packages (from torch->cvnets==0.3) (1.11.1.6)\n",
            "Requirement already satisfied: triton==3.4.0 in /usr/local/lib/python3.12/dist-packages (from torch->cvnets==0.3) (3.4.0)\n",
            "Requirement already satisfied: mpmath<1.4,>=1.1.0 in /usr/local/lib/python3.12/dist-packages (from sympy>=1.13.3->torch->cvnets==0.3) (1.3.0)\n",
            "Requirement already satisfied: MarkupSafe>=2.0 in /usr/local/lib/python3.12/dist-packages (from jinja2->torch->cvnets==0.3) (3.0.2)\n",
            "Building wheels for collected packages: cvnets\n",
            "  Building editable for cvnets (pyproject.toml) ... \u001b[?25l\u001b[?25hdone\n",
            "  Created wheel for cvnets: filename=cvnets-0.3-0.editable-py3-none-any.whl size=4719 sha256=0a4d5339b1a2ce14fd40cca5f48f8aa3f05a790032b25aae29b8cf18bb6b490d\n",
            "  Stored in directory: /tmp/pip-ephem-wheel-cache-jlxaih5d/wheels/43/65/6d/9e299fd941e81be2cc977d9d35f277359c02b3eb1f75cc220a\n",
            "Successfully built cvnets\n",
            "Installing collected packages: cvnets\n",
            "  Attempting uninstall: cvnets\n",
            "    Found existing installation: cvnets 0.3\n",
            "    Uninstalling cvnets-0.3:\n",
            "      Successfully uninstalled cvnets-0.3\n",
            "Successfully installed cvnets-0.3\n"
          ]
        }
      ]
    },
    {
      "cell_type": "code",
      "source": [
        "!pip install av\n",
        "!pip install ftfy"
      ],
      "metadata": {
        "id": "OLOTs9GmhpfA",
        "outputId": "0e91f298-39da-4b41-e2da-34da27fba669",
        "colab": {
          "base_uri": "https://localhost:8080/"
        }
      },
      "id": "OLOTs9GmhpfA",
      "execution_count": 10,
      "outputs": [
        {
          "output_type": "stream",
          "name": "stdout",
          "text": [
            "Requirement already satisfied: av in /usr/local/lib/python3.12/dist-packages (15.1.0)\n",
            "Collecting ftfy\n",
            "  Downloading ftfy-6.3.1-py3-none-any.whl.metadata (7.3 kB)\n",
            "Requirement already satisfied: wcwidth in /usr/local/lib/python3.12/dist-packages (from ftfy) (0.2.13)\n",
            "Downloading ftfy-6.3.1-py3-none-any.whl (44 kB)\n",
            "\u001b[2K   \u001b[90m━━━━━━━━━━━━━━━━━━━━━━━━━━━━━━━━━━━━━━━━\u001b[0m \u001b[32m44.8/44.8 kB\u001b[0m \u001b[31m1.3 MB/s\u001b[0m eta \u001b[36m0:00:00\u001b[0m\n",
            "\u001b[?25hInstalling collected packages: ftfy\n",
            "Successfully installed ftfy-6.3.1\n"
          ]
        }
      ]
    },
    {
      "cell_type": "code",
      "source": [
        "import sys\n",
        "\n",
        "repo_root = \"/content/ml-cvnets\"  # adjust if your repo is somewhere else\n",
        "if repo_root not in sys.path:\n",
        "    sys.path.append(repo_root)\n",
        "\n",
        "print(\"Updated sys.path:\")\n",
        "for i, p in enumerate(sys.path):\n",
        "    print(i, p)\n"
      ],
      "metadata": {
        "id": "ZIG1Vt-jgHBG",
        "outputId": "0437a9e9-221e-457b-f320-84f838958d96",
        "colab": {
          "base_uri": "https://localhost:8080/"
        }
      },
      "id": "ZIG1Vt-jgHBG",
      "execution_count": 15,
      "outputs": [
        {
          "output_type": "stream",
          "name": "stdout",
          "text": [
            "Updated sys.path:\n",
            "0 /content\n",
            "1 /env/python\n",
            "2 /usr/lib/python312.zip\n",
            "3 /usr/lib/python3.12\n",
            "4 /usr/lib/python3.12/lib-dynload\n",
            "5 \n",
            "6 /usr/local/lib/python3.12/dist-packages\n",
            "7 /usr/lib/python3/dist-packages\n",
            "8 /usr/local/lib/python3.12/dist-packages/IPython/extensions\n",
            "9 /root/.ipython\n",
            "10 /tmp/tmp2pojdh_o\n",
            "11 /content/ml-cvnets\n"
          ]
        }
      ]
    },
    {
      "cell_type": "code",
      "source": [
        "# Add repo root to sys.path first\n",
        "import sys\n",
        "from pathlib import Path\n",
        "repo_root = \"/content/ml-cvnets\"\n",
        "if repo_root not in sys.path:\n",
        "    sys.path.append(repo_root)\n",
        "\n",
        "# Correct import for MobileViTv2\n",
        "from cvnets.models.classification import mobilevit_v2\n",
        "\n",
        "# Add repo root to sys.path first\n",
        "\n",
        "\n",
        "# ---- imports ----\n",
        "from options.utils import load_config_file\n",
        "import argparse\n",
        "\n",
        "\n",
        "# ---- load config ----\n",
        "# Pick a config file (adjust the filename to whichever MobileViTv2 variant you want)\n",
        "config_path = Path(repo_root) / \"config\" / \"classification\" / \"imagenet\" / \"mobilevit_v2.yaml\"\n",
        "\n",
        "# Step 1: create a basic argparse.Namespace with config file\n",
        "opts = argparse.Namespace()\n",
        "setattr(opts, \"common.config_file\", str(config_path))\n",
        "\n",
        "# Step 2: actually load the YAML config into opts\n",
        "opts = load_config_file(opts)\n",
        "\n",
        "print(opts)\n",
        "# # ---- instantiate model ----\n",
        "# model = MobileViTv2(opts)\n",
        "\n",
        "# # ---- check model ----\n",
        "# print(model)\n",
        "\n",
        "\n"
      ],
      "metadata": {
        "colab": {
          "base_uri": "https://localhost:8080/"
        },
        "id": "EBtOQk-ck8rn",
        "outputId": "ea48d232-18fb-4c2b-e095-f51dd5491555"
      },
      "id": "EBtOQk-ck8rn",
      "execution_count": 39,
      "outputs": [
        {
          "output_type": "stream",
          "name": "stdout",
          "text": [
            "2025-09-20 20:26:45 - \u001b[33m\u001b[1mWARNING\u001b[0m - UnrecognizedYamlConfigEntry(\"Yaml config key 'taskname' was not recognized by argparser. If you think that you have already added argument in options/opts.py file, then check for typos. If not, then please add it to options/opts.py.\"\n",
            "2025-09-20 20:26:45 - \u001b[33m\u001b[1mWARNING\u001b[0m - UnrecognizedYamlConfigEntry(\"Yaml config key 'common.run_label' was not recognized by argparser. If you think that you have already added argument in options/opts.py file, then check for typos. If not, then please add it to options/opts.py.\"\n",
            "2025-09-20 20:26:45 - \u001b[33m\u001b[1mWARNING\u001b[0m - UnrecognizedYamlConfigEntry(\"Yaml config key 'common.log_freq' was not recognized by argparser. If you think that you have already added argument in options/opts.py file, then check for typos. If not, then please add it to options/opts.py.\"\n",
            "2025-09-20 20:26:45 - \u001b[33m\u001b[1mWARNING\u001b[0m - UnrecognizedYamlConfigEntry(\"Yaml config key 'common.auto_resume' was not recognized by argparser. If you think that you have already added argument in options/opts.py file, then check for typos. If not, then please add it to options/opts.py.\"\n",
            "2025-09-20 20:26:45 - \u001b[33m\u001b[1mWARNING\u001b[0m - UnrecognizedYamlConfigEntry(\"Yaml config key 'common.mixed_precision' was not recognized by argparser. If you think that you have already added argument in options/opts.py file, then check for typos. If not, then please add it to options/opts.py.\"\n",
            "2025-09-20 20:26:45 - \u001b[33m\u001b[1mWARNING\u001b[0m - UnrecognizedYamlConfigEntry(\"Yaml config key 'common.channels_last' was not recognized by argparser. If you think that you have already added argument in options/opts.py file, then check for typos. If not, then please add it to options/opts.py.\"\n",
            "2025-09-20 20:26:45 - \u001b[33m\u001b[1mWARNING\u001b[0m - UnrecognizedYamlConfigEntry(\"Yaml config key 'common.tensorboard_logging' was not recognized by argparser. If you think that you have already added argument in options/opts.py file, then check for typos. If not, then please add it to options/opts.py.\"\n",
            "2025-09-20 20:26:45 - \u001b[33m\u001b[1mWARNING\u001b[0m - UnrecognizedYamlConfigEntry(\"Yaml config key 'common.grad_clip' was not recognized by argparser. If you think that you have already added argument in options/opts.py file, then check for typos. If not, then please add it to options/opts.py.\"\n",
            "2025-09-20 20:26:45 - \u001b[33m\u001b[1mWARNING\u001b[0m - UnrecognizedYamlConfigEntry(\"Yaml config key 'dataset.root_train' was not recognized by argparser. If you think that you have already added argument in options/opts.py file, then check for typos. If not, then please add it to options/opts.py.\"\n",
            "2025-09-20 20:26:45 - \u001b[33m\u001b[1mWARNING\u001b[0m - UnrecognizedYamlConfigEntry(\"Yaml config key 'dataset.root_val' was not recognized by argparser. If you think that you have already added argument in options/opts.py file, then check for typos. If not, then please add it to options/opts.py.\"\n",
            "2025-09-20 20:26:45 - \u001b[33m\u001b[1mWARNING\u001b[0m - UnrecognizedYamlConfigEntry(\"Yaml config key 'dataset.name' was not recognized by argparser. If you think that you have already added argument in options/opts.py file, then check for typos. If not, then please add it to options/opts.py.\"\n",
            "2025-09-20 20:26:45 - \u001b[33m\u001b[1mWARNING\u001b[0m - UnrecognizedYamlConfigEntry(\"Yaml config key 'dataset.category' was not recognized by argparser. If you think that you have already added argument in options/opts.py file, then check for typos. If not, then please add it to options/opts.py.\"\n",
            "2025-09-20 20:26:45 - \u001b[33m\u001b[1mWARNING\u001b[0m - UnrecognizedYamlConfigEntry(\"Yaml config key 'dataset.train_batch_size0' was not recognized by argparser. If you think that you have already added argument in options/opts.py file, then check for typos. If not, then please add it to options/opts.py.\"\n",
            "2025-09-20 20:26:45 - \u001b[33m\u001b[1mWARNING\u001b[0m - UnrecognizedYamlConfigEntry(\"Yaml config key 'dataset.val_batch_size0' was not recognized by argparser. If you think that you have already added argument in options/opts.py file, then check for typos. If not, then please add it to options/opts.py.\"\n",
            "2025-09-20 20:26:45 - \u001b[33m\u001b[1mWARNING\u001b[0m - UnrecognizedYamlConfigEntry(\"Yaml config key 'dataset.eval_batch_size0' was not recognized by argparser. If you think that you have already added argument in options/opts.py file, then check for typos. If not, then please add it to options/opts.py.\"\n",
            "2025-09-20 20:26:45 - \u001b[33m\u001b[1mWARNING\u001b[0m - UnrecognizedYamlConfigEntry(\"Yaml config key 'dataset.workers' was not recognized by argparser. If you think that you have already added argument in options/opts.py file, then check for typos. If not, then please add it to options/opts.py.\"\n",
            "2025-09-20 20:26:45 - \u001b[33m\u001b[1mWARNING\u001b[0m - UnrecognizedYamlConfigEntry(\"Yaml config key 'dataset.prefetch_factor' was not recognized by argparser. If you think that you have already added argument in options/opts.py file, then check for typos. If not, then please add it to options/opts.py.\"\n",
            "2025-09-20 20:26:45 - \u001b[33m\u001b[1mWARNING\u001b[0m - UnrecognizedYamlConfigEntry(\"Yaml config key 'dataset.persistent_workers' was not recognized by argparser. If you think that you have already added argument in options/opts.py file, then check for typos. If not, then please add it to options/opts.py.\"\n",
            "2025-09-20 20:26:45 - \u001b[33m\u001b[1mWARNING\u001b[0m - UnrecognizedYamlConfigEntry(\"Yaml config key 'dataset.pin_memory' was not recognized by argparser. If you think that you have already added argument in options/opts.py file, then check for typos. If not, then please add it to options/opts.py.\"\n",
            "2025-09-20 20:26:45 - \u001b[33m\u001b[1mWARNING\u001b[0m - UnrecognizedYamlConfigEntry(\"Yaml config key 'image_augmentation.random_resized_crop.enable' was not recognized by argparser. If you think that you have already added argument in options/opts.py file, then check for typos. If not, then please add it to options/opts.py.\"\n",
            "2025-09-20 20:26:45 - \u001b[33m\u001b[1mWARNING\u001b[0m - UnrecognizedYamlConfigEntry(\"Yaml config key 'image_augmentation.random_resized_crop.interpolation' was not recognized by argparser. If you think that you have already added argument in options/opts.py file, then check for typos. If not, then please add it to options/opts.py.\"\n",
            "2025-09-20 20:26:45 - \u001b[33m\u001b[1mWARNING\u001b[0m - UnrecognizedYamlConfigEntry(\"Yaml config key 'image_augmentation.random_horizontal_flip.enable' was not recognized by argparser. If you think that you have already added argument in options/opts.py file, then check for typos. If not, then please add it to options/opts.py.\"\n",
            "2025-09-20 20:26:45 - \u001b[33m\u001b[1mWARNING\u001b[0m - UnrecognizedYamlConfigEntry(\"Yaml config key 'image_augmentation.rand_augment.enable' was not recognized by argparser. If you think that you have already added argument in options/opts.py file, then check for typos. If not, then please add it to options/opts.py.\"\n",
            "2025-09-20 20:26:45 - \u001b[33m\u001b[1mWARNING\u001b[0m - UnrecognizedYamlConfigEntry(\"Yaml config key 'image_augmentation.random_erase.enable' was not recognized by argparser. If you think that you have already added argument in options/opts.py file, then check for typos. If not, then please add it to options/opts.py.\"\n",
            "2025-09-20 20:26:45 - \u001b[33m\u001b[1mWARNING\u001b[0m - UnrecognizedYamlConfigEntry(\"Yaml config key 'image_augmentation.random_erase.p' was not recognized by argparser. If you think that you have already added argument in options/opts.py file, then check for typos. If not, then please add it to options/opts.py.\"\n",
            "2025-09-20 20:26:45 - \u001b[33m\u001b[1mWARNING\u001b[0m - UnrecognizedYamlConfigEntry(\"Yaml config key 'image_augmentation.mixup.enable' was not recognized by argparser. If you think that you have already added argument in options/opts.py file, then check for typos. If not, then please add it to options/opts.py.\"\n",
            "2025-09-20 20:26:45 - \u001b[33m\u001b[1mWARNING\u001b[0m - UnrecognizedYamlConfigEntry(\"Yaml config key 'image_augmentation.mixup.alpha' was not recognized by argparser. If you think that you have already added argument in options/opts.py file, then check for typos. If not, then please add it to options/opts.py.\"\n",
            "2025-09-20 20:26:45 - \u001b[33m\u001b[1mWARNING\u001b[0m - UnrecognizedYamlConfigEntry(\"Yaml config key 'image_augmentation.cutmix.enable' was not recognized by argparser. If you think that you have already added argument in options/opts.py file, then check for typos. If not, then please add it to options/opts.py.\"\n",
            "2025-09-20 20:26:45 - \u001b[33m\u001b[1mWARNING\u001b[0m - UnrecognizedYamlConfigEntry(\"Yaml config key 'image_augmentation.cutmix.alpha' was not recognized by argparser. If you think that you have already added argument in options/opts.py file, then check for typos. If not, then please add it to options/opts.py.\"\n",
            "2025-09-20 20:26:45 - \u001b[33m\u001b[1mWARNING\u001b[0m - UnrecognizedYamlConfigEntry(\"Yaml config key 'image_augmentation.resize.enable' was not recognized by argparser. If you think that you have already added argument in options/opts.py file, then check for typos. If not, then please add it to options/opts.py.\"\n",
            "2025-09-20 20:26:45 - \u001b[33m\u001b[1mWARNING\u001b[0m - UnrecognizedYamlConfigEntry(\"Yaml config key 'image_augmentation.resize.size' was not recognized by argparser. If you think that you have already added argument in options/opts.py file, then check for typos. If not, then please add it to options/opts.py.\"\n",
            "2025-09-20 20:26:45 - \u001b[33m\u001b[1mWARNING\u001b[0m - UnrecognizedYamlConfigEntry(\"Yaml config key 'image_augmentation.resize.interpolation' was not recognized by argparser. If you think that you have already added argument in options/opts.py file, then check for typos. If not, then please add it to options/opts.py.\"\n",
            "2025-09-20 20:26:45 - \u001b[33m\u001b[1mWARNING\u001b[0m - UnrecognizedYamlConfigEntry(\"Yaml config key 'image_augmentation.center_crop.enable' was not recognized by argparser. If you think that you have already added argument in options/opts.py file, then check for typos. If not, then please add it to options/opts.py.\"\n",
            "2025-09-20 20:26:45 - \u001b[33m\u001b[1mWARNING\u001b[0m - UnrecognizedYamlConfigEntry(\"Yaml config key 'image_augmentation.center_crop.size' was not recognized by argparser. If you think that you have already added argument in options/opts.py file, then check for typos. If not, then please add it to options/opts.py.\"\n",
            "2025-09-20 20:26:45 - \u001b[33m\u001b[1mWARNING\u001b[0m - UnrecognizedYamlConfigEntry(\"Yaml config key 'sampler.name' was not recognized by argparser. If you think that you have already added argument in options/opts.py file, then check for typos. If not, then please add it to options/opts.py.\"\n",
            "2025-09-20 20:26:45 - \u001b[33m\u001b[1mWARNING\u001b[0m - UnrecognizedYamlConfigEntry(\"Yaml config key 'sampler.bs.crop_size_width' was not recognized by argparser. If you think that you have already added argument in options/opts.py file, then check for typos. If not, then please add it to options/opts.py.\"\n",
            "2025-09-20 20:26:45 - \u001b[33m\u001b[1mWARNING\u001b[0m - UnrecognizedYamlConfigEntry(\"Yaml config key 'sampler.bs.crop_size_height' was not recognized by argparser. If you think that you have already added argument in options/opts.py file, then check for typos. If not, then please add it to options/opts.py.\"\n",
            "2025-09-20 20:26:45 - \u001b[33m\u001b[1mWARNING\u001b[0m - UnrecognizedYamlConfigEntry(\"Yaml config key 'loss.category' was not recognized by argparser. If you think that you have already added argument in options/opts.py file, then check for typos. If not, then please add it to options/opts.py.\"\n",
            "2025-09-20 20:26:45 - \u001b[33m\u001b[1mWARNING\u001b[0m - UnrecognizedYamlConfigEntry(\"Yaml config key 'loss.classification.name' was not recognized by argparser. If you think that you have already added argument in options/opts.py file, then check for typos. If not, then please add it to options/opts.py.\"\n",
            "2025-09-20 20:26:45 - \u001b[33m\u001b[1mWARNING\u001b[0m - UnrecognizedYamlConfigEntry(\"Yaml config key 'loss.classification.cross_entropy.label_smoothing' was not recognized by argparser. If you think that you have already added argument in options/opts.py file, then check for typos. If not, then please add it to options/opts.py.\"\n",
            "2025-09-20 20:26:45 - \u001b[33m\u001b[1mWARNING\u001b[0m - UnrecognizedYamlConfigEntry(\"Yaml config key 'optim.name' was not recognized by argparser. If you think that you have already added argument in options/opts.py file, then check for typos. If not, then please add it to options/opts.py.\"\n",
            "2025-09-20 20:26:45 - \u001b[33m\u001b[1mWARNING\u001b[0m - UnrecognizedYamlConfigEntry(\"Yaml config key 'optim.weight_decay' was not recognized by argparser. If you think that you have already added argument in options/opts.py file, then check for typos. If not, then please add it to options/opts.py.\"\n",
            "2025-09-20 20:26:45 - \u001b[33m\u001b[1mWARNING\u001b[0m - UnrecognizedYamlConfigEntry(\"Yaml config key 'optim.no_decay_bn_filter_bias' was not recognized by argparser. If you think that you have already added argument in options/opts.py file, then check for typos. If not, then please add it to options/opts.py.\"\n",
            "2025-09-20 20:26:45 - \u001b[33m\u001b[1mWARNING\u001b[0m - UnrecognizedYamlConfigEntry(\"Yaml config key 'optim.adamw.beta1' was not recognized by argparser. If you think that you have already added argument in options/opts.py file, then check for typos. If not, then please add it to options/opts.py.\"\n",
            "2025-09-20 20:26:45 - \u001b[33m\u001b[1mWARNING\u001b[0m - UnrecognizedYamlConfigEntry(\"Yaml config key 'optim.adamw.beta2' was not recognized by argparser. If you think that you have already added argument in options/opts.py file, then check for typos. If not, then please add it to options/opts.py.\"\n",
            "2025-09-20 20:26:45 - \u001b[33m\u001b[1mWARNING\u001b[0m - UnrecognizedYamlConfigEntry(\"Yaml config key 'scheduler.name' was not recognized by argparser. If you think that you have already added argument in options/opts.py file, then check for typos. If not, then please add it to options/opts.py.\"\n",
            "2025-09-20 20:26:45 - \u001b[33m\u001b[1mWARNING\u001b[0m - UnrecognizedYamlConfigEntry(\"Yaml config key 'scheduler.is_iteration_based' was not recognized by argparser. If you think that you have already added argument in options/opts.py file, then check for typos. If not, then please add it to options/opts.py.\"\n",
            "2025-09-20 20:26:45 - \u001b[33m\u001b[1mWARNING\u001b[0m - UnrecognizedYamlConfigEntry(\"Yaml config key 'scheduler.max_epochs' was not recognized by argparser. If you think that you have already added argument in options/opts.py file, then check for typos. If not, then please add it to options/opts.py.\"\n",
            "2025-09-20 20:26:45 - \u001b[33m\u001b[1mWARNING\u001b[0m - UnrecognizedYamlConfigEntry(\"Yaml config key 'scheduler.warmup_iterations' was not recognized by argparser. If you think that you have already added argument in options/opts.py file, then check for typos. If not, then please add it to options/opts.py.\"\n",
            "2025-09-20 20:26:45 - \u001b[33m\u001b[1mWARNING\u001b[0m - UnrecognizedYamlConfigEntry(\"Yaml config key 'scheduler.warmup_init_lr' was not recognized by argparser. If you think that you have already added argument in options/opts.py file, then check for typos. If not, then please add it to options/opts.py.\"\n",
            "2025-09-20 20:26:45 - \u001b[33m\u001b[1mWARNING\u001b[0m - UnrecognizedYamlConfigEntry(\"Yaml config key 'scheduler.cosine.max_lr' was not recognized by argparser. If you think that you have already added argument in options/opts.py file, then check for typos. If not, then please add it to options/opts.py.\"\n",
            "2025-09-20 20:26:45 - \u001b[33m\u001b[1mWARNING\u001b[0m - UnrecognizedYamlConfigEntry(\"Yaml config key 'scheduler.cosine.min_lr' was not recognized by argparser. If you think that you have already added argument in options/opts.py file, then check for typos. If not, then please add it to options/opts.py.\"\n",
            "2025-09-20 20:26:45 - \u001b[33m\u001b[1mWARNING\u001b[0m - UnrecognizedYamlConfigEntry(\"Yaml config key 'model.classification.name' was not recognized by argparser. If you think that you have already added argument in options/opts.py file, then check for typos. If not, then please add it to options/opts.py.\"\n",
            "2025-09-20 20:26:45 - \u001b[33m\u001b[1mWARNING\u001b[0m - UnrecognizedYamlConfigEntry(\"Yaml config key 'model.classification.mitv2.width_multiplier' was not recognized by argparser. If you think that you have already added argument in options/opts.py file, then check for typos. If not, then please add it to options/opts.py.\"\n",
            "2025-09-20 20:26:45 - \u001b[33m\u001b[1mWARNING\u001b[0m - UnrecognizedYamlConfigEntry(\"Yaml config key 'model.classification.mitv2.attn_norm_layer' was not recognized by argparser. If you think that you have already added argument in options/opts.py file, then check for typos. If not, then please add it to options/opts.py.\"\n",
            "2025-09-20 20:26:45 - \u001b[33m\u001b[1mWARNING\u001b[0m - UnrecognizedYamlConfigEntry(\"Yaml config key 'model.classification.activation.name' was not recognized by argparser. If you think that you have already added argument in options/opts.py file, then check for typos. If not, then please add it to options/opts.py.\"\n",
            "2025-09-20 20:26:45 - \u001b[33m\u001b[1mWARNING\u001b[0m - UnrecognizedYamlConfigEntry(\"Yaml config key 'model.normalization.name' was not recognized by argparser. If you think that you have already added argument in options/opts.py file, then check for typos. If not, then please add it to options/opts.py.\"\n",
            "2025-09-20 20:26:45 - \u001b[33m\u001b[1mWARNING\u001b[0m - UnrecognizedYamlConfigEntry(\"Yaml config key 'model.normalization.momentum' was not recognized by argparser. If you think that you have already added argument in options/opts.py file, then check for typos. If not, then please add it to options/opts.py.\"\n",
            "2025-09-20 20:26:45 - \u001b[33m\u001b[1mWARNING\u001b[0m - UnrecognizedYamlConfigEntry(\"Yaml config key 'model.activation.name' was not recognized by argparser. If you think that you have already added argument in options/opts.py file, then check for typos. If not, then please add it to options/opts.py.\"\n",
            "2025-09-20 20:26:45 - \u001b[33m\u001b[1mWARNING\u001b[0m - UnrecognizedYamlConfigEntry(\"Yaml config key 'model.layer.global_pool' was not recognized by argparser. If you think that you have already added argument in options/opts.py file, then check for typos. If not, then please add it to options/opts.py.\"\n",
            "2025-09-20 20:26:45 - \u001b[33m\u001b[1mWARNING\u001b[0m - UnrecognizedYamlConfigEntry(\"Yaml config key 'model.layer.conv_init' was not recognized by argparser. If you think that you have already added argument in options/opts.py file, then check for typos. If not, then please add it to options/opts.py.\"\n",
            "2025-09-20 20:26:45 - \u001b[33m\u001b[1mWARNING\u001b[0m - UnrecognizedYamlConfigEntry(\"Yaml config key 'model.layer.conv_init_std_dev' was not recognized by argparser. If you think that you have already added argument in options/opts.py file, then check for typos. If not, then please add it to options/opts.py.\"\n",
            "2025-09-20 20:26:45 - \u001b[33m\u001b[1mWARNING\u001b[0m - UnrecognizedYamlConfigEntry(\"Yaml config key 'model.layer.linear_init' was not recognized by argparser. If you think that you have already added argument in options/opts.py file, then check for typos. If not, then please add it to options/opts.py.\"\n",
            "2025-09-20 20:26:45 - \u001b[33m\u001b[1mWARNING\u001b[0m - UnrecognizedYamlConfigEntry(\"Yaml config key 'model.layer.linear_init_std_dev' was not recognized by argparser. If you think that you have already added argument in options/opts.py file, then check for typos. If not, then please add it to options/opts.py.\"\n",
            "2025-09-20 20:26:45 - \u001b[33m\u001b[1mWARNING\u001b[0m - UnrecognizedYamlConfigEntry(\"Yaml config key 'ema.enable' was not recognized by argparser. If you think that you have already added argument in options/opts.py file, then check for typos. If not, then please add it to options/opts.py.\"\n",
            "2025-09-20 20:26:45 - \u001b[33m\u001b[1mWARNING\u001b[0m - UnrecognizedYamlConfigEntry(\"Yaml config key 'ema.momentum' was not recognized by argparser. If you think that you have already added argument in options/opts.py file, then check for typos. If not, then please add it to options/opts.py.\"\n",
            "2025-09-20 20:26:45 - \u001b[33m\u001b[1mWARNING\u001b[0m - UnrecognizedYamlConfigEntry(\"Yaml config key 'stats.val' was not recognized by argparser. If you think that you have already added argument in options/opts.py file, then check for typos. If not, then please add it to options/opts.py.\"\n",
            "2025-09-20 20:26:45 - \u001b[33m\u001b[1mWARNING\u001b[0m - UnrecognizedYamlConfigEntry(\"Yaml config key 'stats.train' was not recognized by argparser. If you think that you have already added argument in options/opts.py file, then check for typos. If not, then please add it to options/opts.py.\"\n",
            "2025-09-20 20:26:45 - \u001b[33m\u001b[1mWARNING\u001b[0m - UnrecognizedYamlConfigEntry(\"Yaml config key 'stats.checkpoint_metric' was not recognized by argparser. If you think that you have already added argument in options/opts.py file, then check for typos. If not, then please add it to options/opts.py.\"\n",
            "2025-09-20 20:26:45 - \u001b[33m\u001b[1mWARNING\u001b[0m - UnrecognizedYamlConfigEntry(\"Yaml config key 'stats.checkpoint_metric_max' was not recognized by argparser. If you think that you have already added argument in options/opts.py file, then check for typos. If not, then please add it to options/opts.py.\"\n",
            "Namespace(**{'common.config_file': '/content/ml-cvnets/config/classification/imagenet/mobilevit_v2.yaml'})\n"
          ]
        }
      ]
    }
  ],
  "metadata": {
    "language_info": {
      "name": "python"
    },
    "colab": {
      "provenance": []
    },
    "kernelspec": {
      "name": "python3",
      "display_name": "Python 3"
    }
  },
  "nbformat": 4,
  "nbformat_minor": 5
}