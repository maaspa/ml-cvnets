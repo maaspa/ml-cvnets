{
 "cells": [
  {
   "cell_type": "code",
   "execution_count": null,
   "id": "1ecc2847",
   "metadata": {
    "vscode": {
     "languageId": "plaintext"
    }
   },
   "outputs": [],
   "source": [
    "from cvnets import get_model\n",
    "import torch\n",
    "import cv2\n",
    "\n",
    "# Load pretrained model\n",
    "model = get_model(\"mobilevit_v2_075\", pretrained=True)\n",
    "model.eval()\n",
    "\n",
    "# Dummy test on random input\n",
    "x = torch.randn(1,3,256,256)\n",
    "y = model(x)\n",
    "print(y.shape)  # should be [1, 1000] for ImageNet classes\n"
   ]
  }
 ],
 "metadata": {
  "language_info": {
   "name": "python"
  }
 },
 "nbformat": 4,
 "nbformat_minor": 5
}
